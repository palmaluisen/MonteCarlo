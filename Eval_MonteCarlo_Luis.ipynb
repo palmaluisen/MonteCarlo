{
 "cells": [
  {
   "cell_type": "markdown",
   "id": "870f02d7",
   "metadata": {},
   "source": [
    "<img src=\"idal-logo.png\" align=\"right\" style=\"float\" width=\"400\">\n",
    "<font color=\"#CA3532\"><h1 align=\"left\">mIA3</h1></font>\n",
    "<font color=\"#6E6E6E\"><h2 align=\"left\">Evaluación de Método de MonteCarlo</h2></font> \n",
    "\n",
    "#### Luis Enrique Palma"
   ]
  },
  {
   "cell_type": "code",
   "execution_count": 1,
   "id": "5db04c75",
   "metadata": {},
   "outputs": [],
   "source": [
    "import pandas as pd\n",
    "import numpy as np\n",
    "import random\n",
    "import matplotlib.pyplot as plt"
   ]
  },
  {
   "cell_type": "markdown",
   "id": "a3275de5",
   "metadata": {},
   "source": [
    "### Análisis de primer lanzamiento\n",
    "A continuación se analiza el rendimiento del juego en el primer lanzamiento con la función *juego(se)*. En el que devuelve si se gana o pierde en el primer intento, caso contrario \"pasa\"."
   ]
  },
  {
   "cell_type": "code",
   "execution_count": 2,
   "id": "671d526d",
   "metadata": {},
   "outputs": [
    {
     "data": {
      "text/plain": [
       "(0, 0, 1)"
      ]
     },
     "execution_count": 2,
     "metadata": {},
     "output_type": "execute_result"
    }
   ],
   "source": [
    "def juego(se):\n",
    "    Gana=0\n",
    "    Pierde=0\n",
    "    Pasa=0\n",
    "    gana=[7,11]\n",
    "    pierde=[2,3,12]\n",
    "    lanz=(np.random.choice(6, 1)+np.random.choice(6, 1)+2)\n",
    "    if lanz in gana:\n",
    "        Gana = 1\n",
    "    elif lanz in pierde:\n",
    "        Pierde = 1\n",
    "    else:\n",
    "        Pasa = 1\n",
    "    return (Gana, Pierde, Pasa)\n",
    "juego(99)"
   ]
  },
  {
   "cell_type": "code",
   "execution_count": 3,
   "id": "fb255e6a",
   "metadata": {},
   "outputs": [
    {
     "data": {
      "image/png": "[encoded data removed]",
      "text/plain": [
       "<Figure size 432x288 with 1 Axes>"
      ]
     },
     "metadata": {
      "needs_background": "light"
     },
     "output_type": "display_data"
    }
   ],
   "source": [
    "N = 10000\n",
    "juegos = [juego(1) for i in range(N)]\n",
    "\n",
    "#Convertir lista de tuplas a listas individuales\n",
    "ganados = []\n",
    "perdidos = []\n",
    "pasados = []\n",
    "for t in juegos:\n",
    "    ganados.append(t[0])\n",
    "    perdidos.append(t[1])\n",
    "    pasados.append(t[2])\n",
    "\n",
    "#Crear df para hacer un gráfico de áreas apiladas\n",
    "df = pd.DataFrame({\n",
    "    'Ganados': list(np.cumsum(ganados)*100/(np.arange(N)+1)),\n",
    "    'Perdidos': list(np.cumsum(perdidos)*100/(np.arange(N)+1)),\n",
    "    'Pasados': list(np.cumsum(pasados)*100/(np.arange(N)+1))},\n",
    "    index=range(N))\n",
    "ax = df.plot.area(colormap = \"brg\" ,alpha = 0.4)   "
   ]
  },
  {
   "cell_type": "markdown",
   "id": "d81b5a40",
   "metadata": {},
   "source": [
    "Para responder a quien tiene más probabilidad de ganar el juego en la primera tirada se hace uso del gráfico de áreas apiladas anterior en donde se observa que aproximadamente un 24% de los juegos se ganan, luego se pierden aproximadamente el 11% de los juegos y por último el 65% de los juegos pasan a la siguiente tirada."
   ]
  },
  {
   "cell_type": "markdown",
   "id": "356431ac",
   "metadata": {},
   "source": [
    "### Juego completo\n",
    "Ahora se considerará únicamente si se gana o pierde, considerando las tiradas después de la primera según sea el caso."
   ]
  },
  {
   "cell_type": "code",
   "execution_count": 4,
   "id": "6f61d671",
   "metadata": {},
   "outputs": [
    {
     "data": {
      "text/plain": [
       "(0, 1, 7, array([5]), array([7]))"
      ]
     },
     "execution_count": 4,
     "metadata": {},
     "output_type": "execute_result"
    }
   ],
   "source": [
    "def juego_completo(se):\n",
    "    Gana=0\n",
    "    Pierde=0\n",
    "    gana_1=[7,11]\n",
    "    gana_2=[]\n",
    "    pierde_1=[2,3,12]\n",
    "    pierde_2=[7]\n",
    "    contador=0\n",
    "    lanz_2=0\n",
    "    #Primer lanzamiento\n",
    "    contador+=1\n",
    "    lanz_1=(np.random.choice(6,1)+np.random.choice(6,1)+2)\n",
    "    gana_2=[lanz_1]\n",
    "    if lanz_1 in gana_1:\n",
    "        Gana = 1\n",
    "    elif lanz_1 in pierde_1:\n",
    "        Pierde = 1\n",
    "    #Si en el primer lanzamiento no gana o pierde    \n",
    "    else:\n",
    "        #Segundo lanzamiento\n",
    "        contador+=1\n",
    "        lanz_2=(np.random.choice(6,1)+np.random.choice(6,1)+2)\n",
    "        if lanz_2 in gana_2:\n",
    "            Gana=1\n",
    "        elif lanz_2 in pierde_2:\n",
    "            Pierde=1\n",
    "        else:\n",
    "            #Siguientes lanzamientos\n",
    "            while lanz_2 not in gana_2+pierde_2:\n",
    "                if lanz_2 in gana_2:\n",
    "                    Gana=1\n",
    "                    break\n",
    "                elif lanz_2 in pierde_2:\n",
    "                    Pierde=1\n",
    "                    break\n",
    "                else:\n",
    "                    contador+=1\n",
    "                    lanz_2=(np.random.choice(6,1)+np.random.choice(6,1)+2)\n",
    "                    if lanz_2 in gana_2:\n",
    "                        Gana=1\n",
    "                        break    \n",
    "                    elif lanz_2 in pierde_2:\n",
    "                        Pierde=1\n",
    "                        break\n",
    "                    else:\n",
    "                        pass                \n",
    "    return (Gana, Pierde, contador, lanz_1, lanz_2)\n",
    "juego_completo(99)"
   ]
  },
  {
   "cell_type": "code",
   "execution_count": 5,
   "id": "c827aaf5",
   "metadata": {},
   "outputs": [
    {
     "data": {
      "image/png": "[encoded data removed]",
      "text/plain": [
       "<Figure size 432x288 with 1 Axes>"
      ]
     },
     "metadata": {
      "needs_background": "light"
     },
     "output_type": "display_data"
    }
   ],
   "source": [
    "N = 10000\n",
    "juegos = [juego_completo(1) for i in range(N)]\n",
    "\n",
    "#Convertir lista de tuplas a listas individuales\n",
    "ganados = []\n",
    "perdidos = []\n",
    "contador =[]\n",
    "Lanz_1=[]\n",
    "Lanz_2=[]\n",
    "for t in juegos:\n",
    "    ganados.append(t[0])\n",
    "    perdidos.append(t[1])\n",
    "    contador.append(t[2])\n",
    "    Lanz_1.append(t[3])\n",
    "    Lanz_2.append(t[4])\n",
    "\n",
    "#Crear df para hacer un gráfico de áreas apiladas\n",
    "df = pd.DataFrame({\n",
    "    'Ganados': list(np.cumsum(ganados)*100/(np.arange(N)+1)),\n",
    "    'Perdidos': list(np.cumsum(perdidos)*100/(np.arange(N)+1))},\n",
    "    index=range(N))\n",
    "ax = df.plot.area(colormap = \"brg\" ,alpha = 0.4) "
   ]
  },
  {
   "cell_type": "markdown",
   "id": "8876da65",
   "metadata": {},
   "source": [
    "Según el gráfico de áreas apiladas anterior en el que se considera ganar o perder únicamente. Las probabilidades de ganar o perder son aproximadamente 49% de ganar y 51% de perder. \n",
    "\n",
    "En el dataframe *df_com* se guardaron los registros de cada una de las tiradas en el que Para Ganados y Perdidos son binarios {1,0} excluyentes. Contador representa la cantidad de veces que se tiraron los dados hasta que el juego finalizó y Lanz_1 el resultado de la primera tirada y Lanz_2 el resultado de la tirada con la que concluyó el juego. "
   ]
  },
  {
   "cell_type": "code",
   "execution_count": 6,
   "id": "af42290e",
   "metadata": {},
   "outputs": [
    {
     "data": {
      "text/html": [
       "<div>\n",
       "<style scoped>\n",
       "    .dataframe tbody tr th:only-of-type {\n",
       "        vertical-align: middle;\n",
       "    }\n",
       "\n",
       "    .dataframe tbody tr th {\n",
       "        vertical-align: top;\n",
       "    }\n",
       "\n",
       "    .dataframe thead th {\n",
       "        text-align: right;\n",
       "    }\n",
       "</style>\n",
       "<table border=\"1\" class=\"dataframe\">\n",
       "  <thead>\n",
       "    <tr style=\"text-align: right;\">\n",
       "      <th></th>\n",
       "      <th>Ganados</th>\n",
       "      <th>Perdidos</th>\n",
       "      <th>Contador</th>\n",
       "      <th>Lanz_1</th>\n",
       "      <th>Lanz_2</th>\n",
       "    </tr>\n",
       "  </thead>\n",
       "  <tbody>\n",
       "    <tr>\n",
       "      <th>0</th>\n",
       "      <td>0</td>\n",
       "      <td>1</td>\n",
       "      <td>7</td>\n",
       "      <td>4</td>\n",
       "      <td>7</td>\n",
       "    </tr>\n",
       "    <tr>\n",
       "      <th>1</th>\n",
       "      <td>1</td>\n",
       "      <td>0</td>\n",
       "      <td>1</td>\n",
       "      <td>7</td>\n",
       "      <td>0</td>\n",
       "    </tr>\n",
       "    <tr>\n",
       "      <th>2</th>\n",
       "      <td>1</td>\n",
       "      <td>0</td>\n",
       "      <td>1</td>\n",
       "      <td>7</td>\n",
       "      <td>0</td>\n",
       "    </tr>\n",
       "    <tr>\n",
       "      <th>3</th>\n",
       "      <td>0</td>\n",
       "      <td>1</td>\n",
       "      <td>2</td>\n",
       "      <td>5</td>\n",
       "      <td>7</td>\n",
       "    </tr>\n",
       "    <tr>\n",
       "      <th>4</th>\n",
       "      <td>0</td>\n",
       "      <td>1</td>\n",
       "      <td>2</td>\n",
       "      <td>8</td>\n",
       "      <td>7</td>\n",
       "    </tr>\n",
       "    <tr>\n",
       "      <th>5</th>\n",
       "      <td>1</td>\n",
       "      <td>0</td>\n",
       "      <td>2</td>\n",
       "      <td>6</td>\n",
       "      <td>6</td>\n",
       "    </tr>\n",
       "    <tr>\n",
       "      <th>6</th>\n",
       "      <td>1</td>\n",
       "      <td>0</td>\n",
       "      <td>4</td>\n",
       "      <td>4</td>\n",
       "      <td>4</td>\n",
       "    </tr>\n",
       "    <tr>\n",
       "      <th>7</th>\n",
       "      <td>0</td>\n",
       "      <td>1</td>\n",
       "      <td>2</td>\n",
       "      <td>6</td>\n",
       "      <td>7</td>\n",
       "    </tr>\n",
       "    <tr>\n",
       "      <th>8</th>\n",
       "      <td>1</td>\n",
       "      <td>0</td>\n",
       "      <td>1</td>\n",
       "      <td>7</td>\n",
       "      <td>0</td>\n",
       "    </tr>\n",
       "    <tr>\n",
       "      <th>9</th>\n",
       "      <td>0</td>\n",
       "      <td>1</td>\n",
       "      <td>8</td>\n",
       "      <td>5</td>\n",
       "      <td>7</td>\n",
       "    </tr>\n",
       "  </tbody>\n",
       "</table>\n",
       "</div>"
      ],
      "text/plain": [
       "   Ganados  Perdidos  Contador Lanz_1 Lanz_2\n",
       "0        0         1         7      4      7\n",
       "1        1         0         1      7      0\n",
       "2        1         0         1      7      0\n",
       "3        0         1         2      5      7\n",
       "4        0         1         2      8      7\n",
       "5        1         0         2      6      6\n",
       "6        1         0         4      4      4\n",
       "7        0         1         2      6      7\n",
       "8        1         0         1      7      0\n",
       "9        0         1         8      5      7"
      ]
     },
     "execution_count": 6,
     "metadata": {},
     "output_type": "execute_result"
    }
   ],
   "source": [
    "df_com = pd.DataFrame({\n",
    "    'Ganados': ganados,\n",
    "    'Perdidos': perdidos,\n",
    "    'Contador': contador,\n",
    "    'Lanz_1': Lanz_1,\n",
    "    'Lanz_2': Lanz_2},\n",
    "    index=range(N))\n",
    "\n",
    "for j in ['Lanz_1', 'Lanz_2']:\n",
    "    for i in range(len(df_com)):\n",
    "        if df_com.loc[i,j] == 0:\n",
    "            df_com.loc[i,j]=df_com.loc[i,j]\n",
    "        else:\n",
    "            df_com.loc[i,j]=df_com.loc[i,j][0]\n",
    "df_com.head(10)"
   ]
  }
 ],
 "metadata": {
  "kernelspec": {
   "display_name": "Python 3",
   "language": "python",
   "name": "python3"
  },
  "language_info": {
   "codemirror_mode": {
    "name": "ipython",
    "version": 3
   },
   "file_extension": ".py",
   "mimetype": "text/x-python",
   "name": "python",
   "nbconvert_exporter": "python",
   "pygments_lexer": "ipython3",
   "version": "3.8.8"
  }
 },
 "nbformat": 4,
 "nbformat_minor": 5
}
